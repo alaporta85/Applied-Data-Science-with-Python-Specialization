{
 "cells": [
  {
   "cell_type": "markdown",
   "metadata": {},
   "source": [
    "---\n",
    "\n",
    "_You are currently looking at **version 1.1** of this notebook. To download notebooks and datafiles, as well as get help on Jupyter notebooks in the Coursera platform, visit the [Jupyter Notebook FAQ](https://www.coursera.org/learn/python-data-analysis/resources/0dhYG) course resource._\n",
    "\n",
    "---"
   ]
  },
  {
   "cell_type": "code",
   "execution_count": 1,
   "metadata": {
    "collapsed": true
   },
   "outputs": [],
   "source": [
    "import pandas as pd\n",
    "import numpy as np\n",
    "from scipy.stats import ttest_ind"
   ]
  },
  {
   "cell_type": "markdown",
   "metadata": {},
   "source": [
    "# Assignment 4 - Hypothesis Testing\n",
    "This assignment requires more individual learning than previous assignments - you are encouraged to check out the [pandas documentation](http://pandas.pydata.org/pandas-docs/stable/) to find functions or methods you might not have used yet, or ask questions on [Stack Overflow](http://stackoverflow.com/) and tag them as pandas and python related. And of course, the discussion forums are open for interaction with your peers and the course staff.\n",
    "\n",
    "Definitions:\n",
    "* A _quarter_ is a specific three month period, Q1 is January through March, Q2 is April through June, Q3 is July through September, Q4 is October through December.\n",
    "* A _recession_ is defined as starting with two consecutive quarters of GDP decline, and ending with two consecutive quarters of GDP growth.\n",
    "* A _recession bottom_ is the quarter within a recession which had the lowest GDP.\n",
    "* A _university town_ is a city which has a high percentage of university students compared to the total population of the city.\n",
    "\n",
    "**Hypothesis**: University towns have their mean housing prices less effected by recessions. Run a t-test to compare the ratio of the mean price of houses in university towns the quarter before the recession starts compared to the recession bottom. (`price_ratio=quarter_before_recession/recession_bottom`)\n",
    "\n",
    "The following data files are available for this assignment:\n",
    "* From the [Zillow research data site](http://www.zillow.com/research/data/) there is housing data for the United States. In particular the datafile for [all homes at a city level](http://files.zillowstatic.com/research/public/City/City_Zhvi_AllHomes.csv), ```City_Zhvi_AllHomes.csv```, has median home sale prices at a fine grained level.\n",
    "* From the Wikipedia page on college towns is a list of [university towns in the United States](https://en.wikipedia.org/wiki/List_of_college_towns#College_towns_in_the_United_States) which has been copy and pasted into the file ```university_towns.txt```.\n",
    "* From Bureau of Economic Analysis, US Department of Commerce, the [GDP over time](http://www.bea.gov/national/index.htm#gdp) of the United States in current dollars (use the chained value in 2009 dollars), in quarterly intervals, in the file ```gdplev.xls```. For this assignment, only look at GDP data from the first quarter of 2000 onward.\n",
    "\n",
    "Each function in this assignment below is worth 10%, with the exception of ```run_ttest()```, which is worth 50%."
   ]
  },
  {
   "cell_type": "code",
   "execution_count": 2,
   "metadata": {
    "collapsed": true
   },
   "outputs": [],
   "source": [
    "# Use this dictionary to map state names to two letter acronyms\n",
    "states = {'OH': 'Ohio', 'KY': 'Kentucky', 'AS': 'American Samoa', 'NV': 'Nevada', 'WY': 'Wyoming', 'NA': 'National', 'AL': 'Alabama', 'MD': 'Maryland', 'AK': 'Alaska', 'UT': 'Utah', 'OR': 'Oregon', 'MT': 'Montana', 'IL': 'Illinois', 'TN': 'Tennessee', 'DC': 'District of Columbia', 'VT': 'Vermont', 'ID': 'Idaho', 'AR': 'Arkansas', 'ME': 'Maine', 'WA': 'Washington', 'HI': 'Hawaii', 'WI': 'Wisconsin', 'MI': 'Michigan', 'IN': 'Indiana', 'NJ': 'New Jersey', 'AZ': 'Arizona', 'GU': 'Guam', 'MS': 'Mississippi', 'PR': 'Puerto Rico', 'NC': 'North Carolina', 'TX': 'Texas', 'SD': 'South Dakota', 'MP': 'Northern Mariana Islands', 'IA': 'Iowa', 'MO': 'Missouri', 'CT': 'Connecticut', 'WV': 'West Virginia', 'SC': 'South Carolina', 'LA': 'Louisiana', 'KS': 'Kansas', 'NY': 'New York', 'NE': 'Nebraska', 'OK': 'Oklahoma', 'FL': 'Florida', 'CA': 'California', 'CO': 'Colorado', 'PA': 'Pennsylvania', 'DE': 'Delaware', 'NM': 'New Mexico', 'RI': 'Rhode Island', 'MN': 'Minnesota', 'VI': 'Virgin Islands', 'NH': 'New Hampshire', 'MA': 'Massachusetts', 'GA': 'Georgia', 'ND': 'North Dakota', 'VA': 'Virginia'}"
   ]
  },
  {
   "cell_type": "code",
   "execution_count": 3,
   "metadata": {
    "collapsed": true,
    "umich_part_id": "021",
    "umich_partlist_id": "004"
   },
   "outputs": [],
   "source": [
    "def get_list_of_university_towns():\n",
    "    '''Returns a DataFrame of towns and the states they are in from the \n",
    "    university_towns.txt list. The format of the DataFrame should be:\n",
    "    DataFrame( [ [\"Michigan\", \"Ann Arbor\"], [\"Michigan\", \"Yipsilanti\"] ], \n",
    "    columns=[\"State\", \"RegionName\"]  )\n",
    "    \n",
    "    The following cleaning needs to be done:\n",
    "\n",
    "    1. For \"State\", removing characters from \"[\" to the end.\n",
    "    2. For \"RegionName\", when applicable, removing every character from \" (\" to the end.\n",
    "    3. Depending on how you read the data, you may need to remove newline character '\\n'. '''\n",
    "    \n",
    "    univ = pd.read_csv('university_towns.txt', sep='\\n', header=None)\n",
    "    \n",
    "    univ['State'] = (univ.loc[univ[0].str.contains('[edit]', regex=False), 0]\n",
    "                     .str.extract(r'(.*)\\[', expand=False))\n",
    "    \n",
    "    univ['RegionName'] = univ.loc[univ['State'].isnull(), 0].str.extract(r'(.*?)\\s\\(')\n",
    "    \n",
    "    short_df = univ[(univ['State'].isnull())&(univ['RegionName'].isnull())]\n",
    "    univ.loc[short_df.index, 'RegionName'] = univ.loc[short_df.index, 0]\n",
    "    \n",
    "    univ['State'] = univ['State'].ffill()\n",
    "    \n",
    "    univ = univ.dropna().reset_index(drop=True).drop(0, axis=1)\n",
    "    \n",
    "    return univ"
   ]
  },
  {
   "cell_type": "code",
   "execution_count": 4,
   "metadata": {
    "collapsed": true,
    "umich_part_id": "022",
    "umich_partlist_id": "004"
   },
   "outputs": [],
   "source": [
    "def get_recession_start():\n",
    "    '''Returns the year and quarter of the recession start time as a \n",
    "    string value in a format such as 2005q3'''\n",
    "    \n",
    "    df = (pd.read_excel('gdplev.xls')[219:]\n",
    "         .rename(columns={'Unnamed: 4': 'Quarters', 'Unnamed: 5': 'GDP'})\n",
    "          .reset_index(drop=True)[['Quarters', 'GDP']])\n",
    "    \n",
    "    for i in range(len(df) - 2):\n",
    "        if df.loc[i, 'GDP'] > df.loc[i + 1, 'GDP'] > df.loc[i + 2, 'GDP']:\n",
    "            return df.loc[i, 'Quarters']"
   ]
  },
  {
   "cell_type": "code",
   "execution_count": 5,
   "metadata": {
    "collapsed": true,
    "umich_part_id": "023",
    "umich_partlist_id": "004"
   },
   "outputs": [],
   "source": [
    "def get_recession_end():\n",
    "    '''Returns the year and quarter of the recession end time as a \n",
    "    string value in a format such as 2005q3'''\n",
    "    \n",
    "    df = (pd.read_excel('gdplev.xls')[219:]\n",
    "         .rename(columns={'Unnamed: 4': 'Quarters', 'Unnamed: 5': 'GDP'})\n",
    "          .reset_index(drop=True)[['Quarters', 'GDP']])\n",
    "    \n",
    "    start_index = df.index[df['Quarters'] == get_recession_start()][0]\n",
    "\n",
    "    for j in range(start_index + 2, len(df) - 2):\n",
    "        if df.loc[j, 'GDP'] < df.loc[j + 1, 'GDP'] < df.loc[j + 2, 'GDP']:\n",
    "            return df.loc[j + 2, 'Quarters']"
   ]
  },
  {
   "cell_type": "code",
   "execution_count": 6,
   "metadata": {
    "collapsed": true,
    "umich_part_id": "024",
    "umich_partlist_id": "004"
   },
   "outputs": [],
   "source": [
    "def get_recession_bottom():\n",
    "    '''Returns the year and quarter of the recession bottom time as a \n",
    "    string value in a format such as 2005q3'''\n",
    "    \n",
    "    df = (pd.read_excel('gdplev.xls')[219:]\n",
    "         .rename(columns={'Unnamed: 4': 'Quarters', 'Unnamed: 5': 'GDP'})\n",
    "          .reset_index(drop=True)[['Quarters', 'GDP']])\n",
    "    \n",
    "    start_index = df.index[df['Quarters'] == get_recession_start()][0]\n",
    "    end_index = df.index[df['Quarters'] == get_recession_end()][0]\n",
    "    \n",
    "    df = df[start_index:end_index]\n",
    "    \n",
    "    bottom = df[df['GDP'] == df['GDP'].min()]['Quarters'].iloc[0]\n",
    "\n",
    "    return bottom"
   ]
  },
  {
   "cell_type": "code",
   "execution_count": 47,
   "metadata": {
    "collapsed": true,
    "umich_part_id": "025",
    "umich_partlist_id": "004"
   },
   "outputs": [],
   "source": [
    "def convert_housing_data_to_quarters():\n",
    "    '''Converts the housing data to quarters and returns it as mean \n",
    "    values in a dataframe. This dataframe should be a dataframe with\n",
    "    columns for 2000q1 through 2016q3, and should have a multi-index\n",
    "    in the shape of [\"State\",\"RegionName\"].\n",
    "    \n",
    "    Note: Quarters are defined in the assignment description, they are\n",
    "    not arbitrary three month periods.\n",
    "    \n",
    "    The resulting dataframe should have 67 columns, and 10,730 rows.\n",
    "    '''\n",
    "    \n",
    "    df = pd.read_csv('City_Zhvi_AllHomes.csv')\n",
    "    cols_to_drop = (['RegionID', 'Metro', 'CountyName', 'SizeRank'] +\n",
    "                    ['1996-{}'.format(str(j).zfill(2)) for j in range(4, 13)] +\n",
    "                    ['{}-{}'.format(i, str(j).zfill(2)) for i in range(1997, 2000) for j in range(1, 13)])\n",
    "    \n",
    "    df.drop(cols_to_drop, axis=1, inplace=True)\n",
    "    df['State'] = df['State'].map(states)\n",
    "\n",
    "    for i in range(2000, 2017):\n",
    "        for j in range(1, 13, 3):\n",
    "            months = []\n",
    "            month1 = '{}-{}'.format(i, str(j).zfill(2))\n",
    "            month2 = '{}-{}'.format(i, str(j + 1).zfill(2))\n",
    "            months.append(month1)\n",
    "            months.append(month2)\n",
    "            try:\n",
    "                month3 = df['{}-{}'.format(i, str(j + 2).zfill(2))]\n",
    "                months.append('{}-{}'.format(i, str(j + 2).zfill(2)))\n",
    "            except KeyError:\n",
    "                new_col = '{}q{}'.format(i, int(np.ceil(j / 3)))\n",
    "                df[new_col] = df[months].mean(axis=1)\n",
    "                df.drop(months, axis=1, inplace=True)\n",
    "                break\n",
    "            \n",
    "            new_col = '{}q{}'.format(i, int(np.ceil(j / 3)))\n",
    "            df[new_col] = df[months].mean(axis=1)\n",
    "            df.drop(months, axis=1, inplace=True)\n",
    "    \n",
    "    df.set_index(['State', 'RegionName'], inplace=True)\n",
    "    \n",
    "    return df"
   ]
  },
  {
   "cell_type": "code",
   "execution_count": 168,
   "metadata": {
    "umich_part_id": "026",
    "umich_partlist_id": "004"
   },
   "outputs": [
    {
     "name": "stderr",
     "output_type": "stream",
     "text": [
      "/opt/conda/lib/python3.6/site-packages/ipykernel/__main__.py:18: FutureWarning: currently extract(expand=None) means expand=False (return Index/Series/DataFrame) but in a future version of pandas this will be changed to expand=True (return DataFrame)\n"
     ]
    },
    {
     "data": {
      "text/plain": [
       "(True, 0.0054964273536938875, 'university town')"
      ]
     },
     "execution_count": 168,
     "metadata": {},
     "output_type": "execute_result"
    }
   ],
   "source": [
    "def run_ttest():\n",
    "    '''First creates new data showing the decline or growth of housing prices\n",
    "    between the recession start and the recession bottom. Then runs a ttest\n",
    "    comparing the university town values to the non-university towns values, \n",
    "    return whether the alternative hypothesis (that the two groups are the same)\n",
    "    is true or not as well as the p-value of the confidence. \n",
    "    \n",
    "    Return the tuple (different, p, better) where different=True if the t-test is\n",
    "    True at a p<0.01 (we reject the null hypothesis), or different=False if \n",
    "    otherwise (we cannot reject the null hypothesis). The variable p should\n",
    "    be equal to the exact p value returned from scipy.stats.ttest_ind(). The\n",
    "    value for better should be either \"university town\" or \"non-university town\"\n",
    "    depending on which has a lower mean price ratio (which is equivilent to a\n",
    "    reduced market loss).'''\n",
    "    \n",
    "    start = get_recession_start()\n",
    "    bottom = get_recession_bottom()\n",
    "    house_price = convert_housing_data_to_quarters().loc[:, start:bottom]\n",
    "    \n",
    "    univ_towns = pd.merge(house_price, get_list_of_university_towns(),\n",
    "                          left_index=True, right_on=('State', 'RegionName')).dropna()\n",
    "    univ_towns.set_index(['State', 'RegionName'], inplace=True)\n",
    "    univ_towns['Price Ratio'] = univ_towns['2008q3'] / univ_towns['2009q2']\n",
    "    \n",
    "    non_univ_towns = house_price.drop(univ_towns.index, axis=0).dropna()\n",
    "    non_univ_towns['Price Ratio'] = non_univ_towns['2008q3'] / non_univ_towns['2009q2']\n",
    "    \n",
    "    better = [('university town', univ_towns['Price Ratio'].mean()),\n",
    "              ('non-university town', non_univ_towns['Price Ratio'].mean())]\n",
    "    better.sort(key=lambda x: x[1])\n",
    "    \n",
    "    p_value = ttest_ind(univ_towns['Price Ratio'], non_univ_towns['Price Ratio']).pvalue\n",
    "\n",
    "    return (p_value < 0.01, p_value, better[0][0])"
   ]
  },
  {
   "cell_type": "code",
   "execution_count": null,
   "metadata": {
    "collapsed": true
   },
   "outputs": [],
   "source": []
  }
 ],
 "metadata": {
  "coursera": {
   "course_slug": "python-data-analysis",
   "graded_item_id": "Il9Fx",
   "launcher_item_id": "TeDW0",
   "part_id": "WGlun"
  },
  "kernelspec": {
   "display_name": "Python 3",
   "language": "python",
   "name": "python3"
  },
  "language_info": {
   "codemirror_mode": {
    "name": "ipython",
    "version": 3
   },
   "file_extension": ".py",
   "mimetype": "text/x-python",
   "name": "python",
   "nbconvert_exporter": "python",
   "pygments_lexer": "ipython3",
   "version": "3.6.1"
  },
  "umich": {
   "id": "Assignment 4",
   "version": "1.1"
  }
 },
 "nbformat": 4,
 "nbformat_minor": 1
}
